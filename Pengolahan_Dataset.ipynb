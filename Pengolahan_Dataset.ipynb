{
  "nbformat": 4,
  "nbformat_minor": 0,
  "metadata": {
    "colab": {
      "provenance": [],
      "authorship_tag": "ABX9TyP+XwhetGGFaGy4NDfNldiz",
      "include_colab_link": true
    },
    "kernelspec": {
      "name": "python3",
      "display_name": "Python 3"
    },
    "language_info": {
      "name": "python"
    }
  },
  "cells": [
    {
      "cell_type": "markdown",
      "metadata": {
        "id": "view-in-github",
        "colab_type": "text"
      },
      "source": [
        "<a href=\"https://colab.research.google.com/github/HennySweet/Henny/blob/main/Pengolahan_Dataset.ipynb\" target=\"_parent\"><img src=\"https://colab.research.google.com/assets/colab-badge.svg\" alt=\"Open In Colab\"/></a>"
      ]
    },
    {
      "cell_type": "code",
      "execution_count": null,
      "metadata": {
        "id": "rzhuzDvaXsVi"
      },
      "outputs": [],
      "source": [
        "import pandas as pd"
      ]
    },
    {
      "cell_type": "code",
      "source": [
        "dataset = pd.read_excel ('/content/kasus.xls')\n",
        "print(dataset)"
      ],
      "metadata": {
        "colab": {
          "base_uri": "https://localhost:8080/"
        },
        "id": "RH_8RGCFXvL8",
        "outputId": "2f271c7f-c092-40f8-f1c7-1674df7c0083"
      },
      "execution_count": null,
      "outputs": [
        {
          "output_type": "stream",
          "name": "stdout",
          "text": [
            "      pclass  survived                                             name  \\\n",
            "0          1         1                    Allen, Miss. Elisabeth Walton   \n",
            "1          1         1                   Allison, Master. Hudson Trevor   \n",
            "2          1         0                     Allison, Miss. Helen Loraine   \n",
            "3          1         0             Allison, Mr. Hudson Joshua Creighton   \n",
            "4          1         0  Allison, Mrs. Hudson J C (Bessie Waldo Daniels)   \n",
            "...      ...       ...                                              ...   \n",
            "1304       3         0                             Zabour, Miss. Hileni   \n",
            "1305       3         0                            Zabour, Miss. Thamine   \n",
            "1306       3         0                        Zakarian, Mr. Mapriededer   \n",
            "1307       3         0                              Zakarian, Mr. Ortin   \n",
            "1308       3         0                               Zimmerman, Mr. Leo   \n",
            "\n",
            "         sex      age  sibsp  parch  ticket      fare    cabin embarked boat  \\\n",
            "0     female  29.0000      0      0   24160  211.3375       B5        S    2   \n",
            "1       male   0.9167      1      2  113781  151.5500  C22 C26        S   11   \n",
            "2     female   2.0000      1      2  113781  151.5500  C22 C26        S  NaN   \n",
            "3       male  30.0000      1      2  113781  151.5500  C22 C26        S  NaN   \n",
            "4     female  25.0000      1      2  113781  151.5500  C22 C26        S  NaN   \n",
            "...      ...      ...    ...    ...     ...       ...      ...      ...  ...   \n",
            "1304  female  14.5000      1      0    2665   14.4542      NaN        C  NaN   \n",
            "1305  female      NaN      1      0    2665   14.4542      NaN        C  NaN   \n",
            "1306    male  26.5000      0      0    2656    7.2250      NaN        C  NaN   \n",
            "1307    male  27.0000      0      0    2670    7.2250      NaN        C  NaN   \n",
            "1308    male  29.0000      0      0  315082    7.8750      NaN        S  NaN   \n",
            "\n",
            "       body                        home.dest  \n",
            "0       NaN                     St Louis, MO  \n",
            "1       NaN  Montreal, PQ / Chesterville, ON  \n",
            "2       NaN  Montreal, PQ / Chesterville, ON  \n",
            "3     135.0  Montreal, PQ / Chesterville, ON  \n",
            "4       NaN  Montreal, PQ / Chesterville, ON  \n",
            "...     ...                              ...  \n",
            "1304  328.0                              NaN  \n",
            "1305    NaN                              NaN  \n",
            "1306  304.0                              NaN  \n",
            "1307    NaN                              NaN  \n",
            "1308    NaN                              NaN  \n",
            "\n",
            "[1309 rows x 14 columns]\n"
          ]
        }
      ]
    },
    {
      "cell_type": "code",
      "source": [
        "print(dataset.isnull().sum())\n"
      ],
      "metadata": {
        "colab": {
          "base_uri": "https://localhost:8080/"
        },
        "id": "82cONLNNX-5B",
        "outputId": "29d1f75f-9bf8-43ab-b9a5-763a0e05cd57"
      },
      "execution_count": null,
      "outputs": [
        {
          "output_type": "stream",
          "name": "stdout",
          "text": [
            "pclass          0\n",
            "survived        0\n",
            "name            0\n",
            "sex             0\n",
            "age             0\n",
            "sibsp           0\n",
            "parch           0\n",
            "ticket          0\n",
            "fare            1\n",
            "cabin        1014\n",
            "embarked        0\n",
            "boat          823\n",
            "body         1188\n",
            "home.dest     564\n",
            "dtype: int64\n"
          ]
        }
      ]
    },
    {
      "cell_type": "code",
      "source": [
        "dataset['age'] = dataset['age'].fillna(dataset['age'].median())\n"
      ],
      "metadata": {
        "id": "u7LTaW5cYVUj"
      },
      "execution_count": null,
      "outputs": []
    },
    {
      "cell_type": "code",
      "source": [
        "print(dataset['age'].unique())\n"
      ],
      "metadata": {
        "colab": {
          "base_uri": "https://localhost:8080/"
        },
        "id": "1FpIgkyAYb0d",
        "outputId": "94636361-d27e-4ed9-f86f-bb922db65f6e"
      },
      "execution_count": null,
      "outputs": [
        {
          "output_type": "stream",
          "name": "stdout",
          "text": [
            "[29.      0.9167  2.     30.     25.     48.     63.     39.     53.\n",
            " 71.     47.     18.     24.     26.     80.     28.     50.     32.\n",
            " 36.     37.     42.     19.     35.     45.     40.     58.     22.\n",
            " 41.     44.     59.     60.     33.     17.     11.     14.     49.\n",
            " 76.     46.     27.     64.     55.     70.     38.     51.     31.\n",
            "  4.     54.     23.     43.     52.     16.     32.5    21.     15.\n",
            " 65.     28.5    45.5    56.     13.     61.     34.      6.     57.\n",
            " 62.     67.      1.     12.     20.      0.8333  8.      0.6667  7.\n",
            "  3.     36.5    18.5     5.     66.      9.      0.75   70.5    22.5\n",
            "  0.3333  0.1667 40.5    10.     23.5    34.5    20.5    30.5    55.5\n",
            " 38.5    14.5    24.5    60.5    74.      0.4167 11.5    26.5   ]\n"
          ]
        }
      ]
    },
    {
      "cell_type": "code",
      "source": [
        "# Memeriksa nilai umur yang mencurigakan (misalnya lebih kecil dari 1 tahun atau lebih besar dari 100 tahun)\n",
        "dataset[dataset['age'] < 1]\n",
        "dataset[dataset['age'] > 100]"
      ],
      "metadata": {
        "colab": {
          "base_uri": "https://localhost:8080/",
          "height": 53
        },
        "id": "BhtT5VUwZEei",
        "outputId": "d1bd1f1f-9044-46db-c5a9-31b5d159afca"
      },
      "execution_count": null,
      "outputs": [
        {
          "output_type": "execute_result",
          "data": {
            "text/plain": [
              "Empty DataFrame\n",
              "Columns: [pclass, survived, name, sex, age, sibsp, parch, ticket, fare, cabin, embarked, boat, body, home.dest]\n",
              "Index: []"
            ],
            "text/html": [
              "\n",
              "  <div id=\"df-135b736b-44ac-493c-8429-186382e48ea0\" class=\"colab-df-container\">\n",
              "    <div>\n",
              "<style scoped>\n",
              "    .dataframe tbody tr th:only-of-type {\n",
              "        vertical-align: middle;\n",
              "    }\n",
              "\n",
              "    .dataframe tbody tr th {\n",
              "        vertical-align: top;\n",
              "    }\n",
              "\n",
              "    .dataframe thead th {\n",
              "        text-align: right;\n",
              "    }\n",
              "</style>\n",
              "<table border=\"1\" class=\"dataframe\">\n",
              "  <thead>\n",
              "    <tr style=\"text-align: right;\">\n",
              "      <th></th>\n",
              "      <th>pclass</th>\n",
              "      <th>survived</th>\n",
              "      <th>name</th>\n",
              "      <th>sex</th>\n",
              "      <th>age</th>\n",
              "      <th>sibsp</th>\n",
              "      <th>parch</th>\n",
              "      <th>ticket</th>\n",
              "      <th>fare</th>\n",
              "      <th>cabin</th>\n",
              "      <th>embarked</th>\n",
              "      <th>boat</th>\n",
              "      <th>body</th>\n",
              "      <th>home.dest</th>\n",
              "    </tr>\n",
              "  </thead>\n",
              "  <tbody>\n",
              "  </tbody>\n",
              "</table>\n",
              "</div>\n",
              "    <div class=\"colab-df-buttons\">\n",
              "\n",
              "  <div class=\"colab-df-container\">\n",
              "    <button class=\"colab-df-convert\" onclick=\"convertToInteractive('df-135b736b-44ac-493c-8429-186382e48ea0')\"\n",
              "            title=\"Convert this dataframe to an interactive table.\"\n",
              "            style=\"display:none;\">\n",
              "\n",
              "  <svg xmlns=\"http://www.w3.org/2000/svg\" height=\"24px\" viewBox=\"0 -960 960 960\">\n",
              "    <path d=\"M120-120v-720h720v720H120Zm60-500h600v-160H180v160Zm220 220h160v-160H400v160Zm0 220h160v-160H400v160ZM180-400h160v-160H180v160Zm440 0h160v-160H620v160ZM180-180h160v-160H180v160Zm440 0h160v-160H620v160Z\"/>\n",
              "  </svg>\n",
              "    </button>\n",
              "\n",
              "  <style>\n",
              "    .colab-df-container {\n",
              "      display:flex;\n",
              "      gap: 12px;\n",
              "    }\n",
              "\n",
              "    .colab-df-convert {\n",
              "      background-color: #E8F0FE;\n",
              "      border: none;\n",
              "      border-radius: 50%;\n",
              "      cursor: pointer;\n",
              "      display: none;\n",
              "      fill: #1967D2;\n",
              "      height: 32px;\n",
              "      padding: 0 0 0 0;\n",
              "      width: 32px;\n",
              "    }\n",
              "\n",
              "    .colab-df-convert:hover {\n",
              "      background-color: #E2EBFA;\n",
              "      box-shadow: 0px 1px 2px rgba(60, 64, 67, 0.3), 0px 1px 3px 1px rgba(60, 64, 67, 0.15);\n",
              "      fill: #174EA6;\n",
              "    }\n",
              "\n",
              "    .colab-df-buttons div {\n",
              "      margin-bottom: 4px;\n",
              "    }\n",
              "\n",
              "    [theme=dark] .colab-df-convert {\n",
              "      background-color: #3B4455;\n",
              "      fill: #D2E3FC;\n",
              "    }\n",
              "\n",
              "    [theme=dark] .colab-df-convert:hover {\n",
              "      background-color: #434B5C;\n",
              "      box-shadow: 0px 1px 3px 1px rgba(0, 0, 0, 0.15);\n",
              "      filter: drop-shadow(0px 1px 2px rgba(0, 0, 0, 0.3));\n",
              "      fill: #FFFFFF;\n",
              "    }\n",
              "  </style>\n",
              "\n",
              "    <script>\n",
              "      const buttonEl =\n",
              "        document.querySelector('#df-135b736b-44ac-493c-8429-186382e48ea0 button.colab-df-convert');\n",
              "      buttonEl.style.display =\n",
              "        google.colab.kernel.accessAllowed ? 'block' : 'none';\n",
              "\n",
              "      async function convertToInteractive(key) {\n",
              "        const element = document.querySelector('#df-135b736b-44ac-493c-8429-186382e48ea0');\n",
              "        const dataTable =\n",
              "          await google.colab.kernel.invokeFunction('convertToInteractive',\n",
              "                                                    [key], {});\n",
              "        if (!dataTable) return;\n",
              "\n",
              "        const docLinkHtml = 'Like what you see? Visit the ' +\n",
              "          '<a target=\"_blank\" href=https://colab.research.google.com/notebooks/data_table.ipynb>data table notebook</a>'\n",
              "          + ' to learn more about interactive tables.';\n",
              "        element.innerHTML = '';\n",
              "        dataTable['output_type'] = 'display_data';\n",
              "        await google.colab.output.renderOutput(dataTable, element);\n",
              "        const docLink = document.createElement('div');\n",
              "        docLink.innerHTML = docLinkHtml;\n",
              "        element.appendChild(docLink);\n",
              "      }\n",
              "    </script>\n",
              "  </div>\n",
              "\n",
              "\n",
              "    </div>\n",
              "  </div>\n"
            ],
            "application/vnd.google.colaboratory.intrinsic+json": {
              "type": "dataframe",
              "repr_error": "Out of range float values are not JSON compliant: nan"
            }
          },
          "metadata": {},
          "execution_count": 9
        }
      ]
    },
    {
      "cell_type": "code",
      "source": [
        "# Ingin mengganti nilai yang kurang dari 1 (seperti 0.9167) dengan median umur\n",
        "dataset['age'] = dataset['age'].apply(lambda x: dataset['age'].median() if x < 1 else x)"
      ],
      "metadata": {
        "id": "ueSMGUHoYg65"
      },
      "execution_count": null,
      "outputs": []
    },
    {
      "cell_type": "code",
      "source": [
        "print(dataset['age'].unique())\n"
      ],
      "metadata": {
        "colab": {
          "base_uri": "https://localhost:8080/"
        },
        "id": "hprPV3zxYlkn",
        "outputId": "022ca962-77fc-4179-ebad-f1660b845bd9"
      },
      "execution_count": null,
      "outputs": [
        {
          "output_type": "stream",
          "name": "stdout",
          "text": [
            "[29.  28.   2.  30.  25.  48.  63.  39.  53.  71.  47.  18.  24.  26.\n",
            " 80.  50.  32.  36.  37.  42.  19.  35.  45.  40.  58.  22.  41.  44.\n",
            " 59.  60.  33.  17.  11.  14.  49.  76.  46.  27.  64.  55.  70.  38.\n",
            " 51.  31.   4.  54.  23.  43.  52.  16.  32.5 21.  15.  65.  28.5 45.5\n",
            " 56.  13.  61.  34.   6.  57.  62.  67.   1.  12.  20.   8.   7.   3.\n",
            " 36.5 18.5  5.  66.   9.  70.5 22.5 40.5 10.  23.5 34.5 20.5 30.5 55.5\n",
            " 38.5 14.5 24.5 60.5 74.  11.5 26.5]\n"
          ]
        }
      ]
    },
    {
      "cell_type": "code",
      "source": [
        "dataset['age'] = dataset['age'].round()  # Pembulatan ke angka bulat terdekat\n"
      ],
      "metadata": {
        "id": "-6nDwTTYY7eB"
      },
      "execution_count": null,
      "outputs": []
    },
    {
      "cell_type": "code",
      "source": [
        "print(dataset.isnull().sum())\n"
      ],
      "metadata": {
        "colab": {
          "base_uri": "https://localhost:8080/"
        },
        "id": "upCOhv5VY9wL",
        "outputId": "b871789c-5f51-4796-c005-a29b46853da3"
      },
      "execution_count": null,
      "outputs": [
        {
          "output_type": "stream",
          "name": "stdout",
          "text": [
            "pclass        0\n",
            "survived      0\n",
            "name          0\n",
            "age           0\n",
            "sibsp         0\n",
            "parch         0\n",
            "ticket        0\n",
            "fare          0\n",
            "cabin         0\n",
            "boat          0\n",
            "body          0\n",
            "home.dest     0\n",
            "sex_male      0\n",
            "embarked_Q    0\n",
            "embarked_S    0\n",
            "dtype: int64\n"
          ]
        }
      ]
    },
    {
      "cell_type": "code",
      "source": [
        "dataset.to_excel('new_dataset1.xlsx', index=False)\n"
      ],
      "metadata": {
        "id": "9hGp-fVpemti"
      },
      "execution_count": null,
      "outputs": []
    },
    {
      "cell_type": "code",
      "source": [
        "# Mengisi nilai kosong di kolom numerik dengan mean\n",
        "dataset['fare'] = dataset['fare'].fillna(dataset['fare'].mean())\n",
        "\n",
        "\n",
        "\n",
        "# Jika ada kolom lainnya yang kosong dan perlu diisi, Anda dapat menambahkannya dengan cara yang sama\n",
        "# Misalnya, mengisi kolom 'boat' dan 'body' dengan modus atau mean sesuai tipe datanya\n",
        "dataset['boat'] = dataset['boat'].fillna(dataset['boat'].mode()[0])  # Kolom kategori\n",
        "dataset['body'] = dataset['body'].fillna(dataset['body'].mode()[0])  # Kolom kategori\n",
        "dataset['cabin'] = dataset['cabin'].fillna(dataset['cabin'].mode()[0])  # Menggunakan modus\n",
        "dataset['home.dest'] = dataset['home.dest'].fillna(dataset['home.dest'].mode()[0])\n",
        "\n",
        "\n",
        "\n",
        "#Sekalian cek data balik\n",
        "print(dataset.isnull().sum())\n"
      ],
      "metadata": {
        "colab": {
          "base_uri": "https://localhost:8080/"
        },
        "id": "OlElrF6ZZTij",
        "outputId": "fd9f4319-e6eb-481d-f45b-89c12057a5bf"
      },
      "execution_count": null,
      "outputs": [
        {
          "output_type": "stream",
          "name": "stdout",
          "text": [
            "pclass       0\n",
            "survived     0\n",
            "name         0\n",
            "sex          0\n",
            "age          0\n",
            "sibsp        0\n",
            "parch        0\n",
            "ticket       0\n",
            "fare         0\n",
            "cabin        0\n",
            "embarked     0\n",
            "boat         0\n",
            "body         0\n",
            "home.dest    0\n",
            "dtype: int64\n"
          ]
        }
      ]
    },
    {
      "cell_type": "code",
      "source": [
        "print(dataset.describe())  # Statistik deskriptif untuk kolom numerik\n",
        "\n"
      ],
      "metadata": {
        "colab": {
          "base_uri": "https://localhost:8080/"
        },
        "id": "cPkyUDStZbPl",
        "outputId": "277172a6-7e32-4e6d-db06-41bf3cfe2707"
      },
      "execution_count": null,
      "outputs": [
        {
          "output_type": "stream",
          "name": "stdout",
          "text": [
            "            pclass     survived          age        sibsp        parch  \\\n",
            "count  1309.000000  1309.000000  1309.000000  1309.000000  1309.000000   \n",
            "mean      2.294882     0.381971    29.744843     0.498854     0.385027   \n",
            "std       0.837836     0.486055    12.604389     1.041658     0.865560   \n",
            "min       1.000000     0.000000     1.000000     0.000000     0.000000   \n",
            "25%       2.000000     0.000000    23.000000     0.000000     0.000000   \n",
            "50%       3.000000     0.000000    28.000000     0.000000     0.000000   \n",
            "75%       3.000000     1.000000    35.000000     1.000000     0.000000   \n",
            "max       3.000000     1.000000    80.000000     8.000000     9.000000   \n",
            "\n",
            "              fare         body  \n",
            "count  1309.000000  1309.000000  \n",
            "mean     33.295479    15.772345  \n",
            "std      51.738879    54.953095  \n",
            "min       0.000000     1.000000  \n",
            "25%       7.895800     1.000000  \n",
            "50%      14.454200     1.000000  \n",
            "75%      31.275000     1.000000  \n",
            "max     512.329200   328.000000  \n"
          ]
        }
      ]
    },
    {
      "cell_type": "code",
      "source": [
        "dataset.to_excel('new_dataset.xlsx', index=False)\n"
      ],
      "metadata": {
        "id": "1AjWhvNoeCQ2"
      },
      "execution_count": null,
      "outputs": []
    },
    {
      "cell_type": "code",
      "source": [
        "# Import library yang diperlukan\n",
        "import pandas as pd\n",
        "from sklearn.preprocessing import MinMaxScaler\n",
        "\n",
        "# Misalkan ini dataset awal\n",
        "dataset = pd.read_excel('/content/kasus.xls')\n",
        "\n",
        "# Identifikasi kolom numerik\n",
        "numerical_features = ['age', 'fare', 'sibsp', 'parch']  # Sesuaikan dengan kolom numerik kamu\n",
        "\n",
        "# Buat salinan dataset untuk normalisasi\n",
        "dataset_normalized = dataset.copy()\n",
        "\n",
        "# Inisialisasi MinMaxScaler\n",
        "scaler = MinMaxScaler()\n",
        "\n",
        "# Transformasi kolom numerik\n",
        "dataset_normalized[numerical_features] = scaler.fit_transform(dataset[numerical_features])\n",
        "\n",
        "# Cek hasil normalisasi\n",
        "print(dataset_normalized.head())\n"
      ],
      "metadata": {
        "colab": {
          "base_uri": "https://localhost:8080/"
        },
        "id": "5ziG1piceVOl",
        "outputId": "3d699d31-261f-4932-ea35-b2ff2b616802"
      },
      "execution_count": null,
      "outputs": [
        {
          "output_type": "stream",
          "name": "stdout",
          "text": [
            "   pclass  survived                                             name     sex  \\\n",
            "0       1         1                    Allen, Miss. Elisabeth Walton  female   \n",
            "1       1         1                   Allison, Master. Hudson Trevor    male   \n",
            "2       1         0                     Allison, Miss. Helen Loraine  female   \n",
            "3       1         0             Allison, Mr. Hudson Joshua Creighton    male   \n",
            "4       1         0  Allison, Mrs. Hudson J C (Bessie Waldo Daniels)  female   \n",
            "\n",
            "        age  sibsp     parch  ticket      fare    cabin embarked boat   body  \\\n",
            "0  0.361169  0.000  0.000000   24160  0.412503       B5        S    2    NaN   \n",
            "1  0.009395  0.125  0.222222  113781  0.295806  C22 C26        S   11    NaN   \n",
            "2  0.022964  0.125  0.222222  113781  0.295806  C22 C26        S  NaN    NaN   \n",
            "3  0.373695  0.125  0.222222  113781  0.295806  C22 C26        S  NaN  135.0   \n",
            "4  0.311064  0.125  0.222222  113781  0.295806  C22 C26        S  NaN    NaN   \n",
            "\n",
            "                         home.dest  \n",
            "0                     St Louis, MO  \n",
            "1  Montreal, PQ / Chesterville, ON  \n",
            "2  Montreal, PQ / Chesterville, ON  \n",
            "3  Montreal, PQ / Chesterville, ON  \n",
            "4  Montreal, PQ / Chesterville, ON  \n"
          ]
        }
      ]
    },
    {
      "cell_type": "code",
      "source": [
        "dataset.to_excel('new_dataset2.xlsx', index=False)\n"
      ],
      "metadata": {
        "id": "QZIg3OyBf9xq"
      },
      "execution_count": null,
      "outputs": []
    },
    {
      "cell_type": "code",
      "source": [
        "# Cek statistik deskriptif kolom numerik setelah normalisasi\n",
        "print(dataset_normalized[numerical_features].describe())\n"
      ],
      "metadata": {
        "colab": {
          "base_uri": "https://localhost:8080/"
        },
        "id": "-Iu5AcPug0Vz",
        "outputId": "46957254-9d11-4d61-9049-fb17cb36cfd8"
      },
      "execution_count": null,
      "outputs": [
        {
          "output_type": "stream",
          "name": "stdout",
          "text": [
            "               age         fare        sibsp        parch\n",
            "count  1046.000000  1308.000000  1309.000000  1309.000000\n",
            "mean      0.372206     0.064988     0.062357     0.042781\n",
            "std       0.180545     0.101026     0.130207     0.096173\n",
            "min       0.000000     0.000000     0.000000     0.000000\n",
            "25%       0.260960     0.015412     0.000000     0.000000\n",
            "50%       0.348643     0.028213     0.000000     0.000000\n",
            "75%       0.486430     0.061045     0.125000     0.000000\n",
            "max       1.000000     1.000000     1.000000     1.000000\n"
          ]
        }
      ]
    },
    {
      "cell_type": "code",
      "source": [
        "print(\"Dataset Setelah Normalisasi dan Transformasi:\")\n",
        "print(dataset_normalized.head())"
      ],
      "metadata": {
        "colab": {
          "base_uri": "https://localhost:8080/"
        },
        "id": "Iss9ptM0hApx",
        "outputId": "a87ccc1f-a7e6-4f6b-8798-6c9cd5d63911"
      },
      "execution_count": null,
      "outputs": [
        {
          "output_type": "stream",
          "name": "stdout",
          "text": [
            "Dataset Setelah Normalisasi dan Transformasi:\n",
            "   pclass  survived                                             name     sex  \\\n",
            "0       1         1                    Allen, Miss. Elisabeth Walton  female   \n",
            "1       1         1                   Allison, Master. Hudson Trevor    male   \n",
            "2       1         0                     Allison, Miss. Helen Loraine  female   \n",
            "3       1         0             Allison, Mr. Hudson Joshua Creighton    male   \n",
            "4       1         0  Allison, Mrs. Hudson J C (Bessie Waldo Daniels)  female   \n",
            "\n",
            "        age  sibsp     parch  ticket      fare    cabin embarked boat   body  \\\n",
            "0  0.361169  0.000  0.000000   24160  0.412503       B5        S    2    NaN   \n",
            "1  0.009395  0.125  0.222222  113781  0.295806  C22 C26        S   11    NaN   \n",
            "2  0.022964  0.125  0.222222  113781  0.295806  C22 C26        S  NaN    NaN   \n",
            "3  0.373695  0.125  0.222222  113781  0.295806  C22 C26        S  NaN  135.0   \n",
            "4  0.311064  0.125  0.222222  113781  0.295806  C22 C26        S  NaN    NaN   \n",
            "\n",
            "                         home.dest  \n",
            "0                     St Louis, MO  \n",
            "1  Montreal, PQ / Chesterville, ON  \n",
            "2  Montreal, PQ / Chesterville, ON  \n",
            "3  Montreal, PQ / Chesterville, ON  \n",
            "4  Montreal, PQ / Chesterville, ON  \n"
          ]
        }
      ]
    },
    {
      "cell_type": "code",
      "source": [
        "print(\"\\nStatistik Deskriptif Dataset:\")\n",
        "print(dataset_normalized.describe())"
      ],
      "metadata": {
        "colab": {
          "base_uri": "https://localhost:8080/"
        },
        "id": "mvrhk1QniSZa",
        "outputId": "d6124e24-7c4f-4ca6-dc9d-cc426e5fc334"
      },
      "execution_count": null,
      "outputs": [
        {
          "output_type": "stream",
          "name": "stdout",
          "text": [
            "\n",
            "Statistik Deskriptif Dataset:\n",
            "            pclass     survived          age        sibsp        parch  \\\n",
            "count  1309.000000  1309.000000  1046.000000  1309.000000  1309.000000   \n",
            "mean      2.294882     0.381971     0.372206     0.062357     0.042781   \n",
            "std       0.837836     0.486055     0.180545     0.130207     0.096173   \n",
            "min       1.000000     0.000000     0.000000     0.000000     0.000000   \n",
            "25%       2.000000     0.000000     0.260960     0.000000     0.000000   \n",
            "50%       3.000000     0.000000     0.348643     0.000000     0.000000   \n",
            "75%       3.000000     1.000000     0.486430     0.125000     0.000000   \n",
            "max       3.000000     1.000000     1.000000     1.000000     1.000000   \n",
            "\n",
            "              fare        body  \n",
            "count  1308.000000  121.000000  \n",
            "mean      0.064988  160.809917  \n",
            "std       0.101026   97.696922  \n",
            "min       0.000000    1.000000  \n",
            "25%       0.015412   72.000000  \n",
            "50%       0.028213  155.000000  \n",
            "75%       0.061045  256.000000  \n",
            "max       1.000000  328.000000  \n"
          ]
        }
      ]
    },
    {
      "cell_type": "code",
      "source": [
        "import matplotlib.pyplot as plt\n",
        "import seaborn as sns\n",
        "# Histogram Age dan Fare\n",
        "dataset[['age', 'fare']].hist(figsize=(10, 5), bins=20)\n",
        "plt.show()"
      ],
      "metadata": {
        "colab": {
          "base_uri": "https://localhost:8080/",
          "height": 468
        },
        "id": "X15URqIhiftG",
        "outputId": "0b90d539-acbc-44c2-d14a-f9ba38e1bb0e"
      },
      "execution_count": null,
      "outputs": [
        {
          "output_type": "display_data",
          "data": {
            "text/plain": [
              "<Figure size 1000x500 with 2 Axes>"
            ],
            "image/png": "[encoded data removed]"
          },
          "metadata": {}
        }
      ]
    },
    {
      "cell_type": "code",
      "source": [
        "# Pilih kolom numerik saja\n",
        "dataset_numerik = dataset.select_dtypes(include=['float64', 'int64'])\n",
        "# Heatmap korelasi untuk kolom numerik\n",
        "plt.figure(figsize=(10, 8))\n",
        "sns.heatmap(dataset_numerik.corr(), annot=True, cmap='coolwarm')\n",
        "plt.show()\n"
      ],
      "metadata": {
        "colab": {
          "base_uri": "https://localhost:8080/",
          "height": 682
        },
        "id": "VvwcIArtjKZI",
        "outputId": "8c49665f-ff63-44a4-a991-38452cd9108e"
      },
      "execution_count": null,
      "outputs": [
        {
          "output_type": "display_data",
          "data": {
            "text/plain": [
              "<Figure size 1000x800 with 2 Axes>"
            ],
            "image/png": "[encoded data removed]"
          },
          "metadata": {}
        }
      ]
    },
    {
      "cell_type": "code",
      "source": [
        "sns.barplot(x='pclass', y='survived', data=dataset)\n",
        "plt.title('Survival Rate by Ticket Class')\n",
        "plt.show()\n"
      ],
      "metadata": {
        "colab": {
          "base_uri": "https://localhost:8080/",
          "height": 472
        },
        "id": "bA1p1AS2jj4s",
        "outputId": "e0dd7535-166a-4581-9f67-982ddba4be30"
      },
      "execution_count": null,
      "outputs": [
        {
          "output_type": "display_data",
          "data": {
            "text/plain": [
              "<Figure size 640x480 with 1 Axes>"
            ],
            "image/png": "[encoded data removed]"
          },
          "metadata": {}
        }
      ]
    },
    {
      "cell_type": "code",
      "source": [
        "sns.barplot(x='sex', y='survived', data=dataset)\n",
        "plt.title('Survival Rate by Gender')\n",
        "plt.show()\n"
      ],
      "metadata": {
        "colab": {
          "base_uri": "https://localhost:8080/",
          "height": 472
        },
        "id": "lQu5X_cMjuZm",
        "outputId": "5ec03efc-3fa3-4684-a472-1a6694989063"
      },
      "execution_count": null,
      "outputs": [
        {
          "output_type": "display_data",
          "data": {
            "text/plain": [
              "<Figure size 640x480 with 1 Axes>"
            ],
            "image/png": "[encoded data removed]"
          },
          "metadata": {}
        }
      ]
    },
    {
      "cell_type": "code",
      "source": [
        "sns.boxplot(x='survived', y='age', data=dataset)\n",
        "plt.title('Age Distribution by Survival')\n",
        "plt.show()\n"
      ],
      "metadata": {
        "colab": {
          "base_uri": "https://localhost:8080/",
          "height": 472
        },
        "id": "o_QBniEllQ3-",
        "outputId": "ad7bf997-6be5-4ff4-bbf3-235db2198027"
      },
      "execution_count": null,
      "outputs": [
        {
          "output_type": "display_data",
          "data": {
            "text/plain": [
              "<Figure size 640x480 with 1 Axes>"
            ],
            "image/png": "[encoded data removed]"
          },
          "metadata": {}
        }
      ]
    },
    {
      "cell_type": "code",
      "source": [
        "from sklearn.model_selection import train_test_split\n",
        "\n",
        "X = dataset[['pclass', 'sex', 'age', 'sibsp', 'parch', 'fare', 'embarked']]\n",
        "y = dataset['survived']\n",
        "\n",
        "X_train, X_test, y_train, y_test = train_test_split(X, y, test_size=0.2, random_state=42)\n"
      ],
      "metadata": {
        "id": "CWYfylaflcJb"
      },
      "execution_count": null,
      "outputs": []
    },
    {
      "cell_type": "code",
      "source": [
        "print(\"Ukuran X_train:\", X_train.shape)\n",
        "print(\"Ukuran X_test:\", X_test.shape)\n",
        "print(\"Ukuran y_train:\", y_train.shape)\n",
        "print(\"Ukuran y_test:\", y_test.shape)\n"
      ],
      "metadata": {
        "colab": {
          "base_uri": "https://localhost:8080/"
        },
        "id": "O8Im-2MKaVNc",
        "outputId": "cd6bb3b2-6db4-44d8-9e4a-cdf339f24533"
      },
      "execution_count": null,
      "outputs": [
        {
          "output_type": "stream",
          "name": "stdout",
          "text": [
            "Ukuran X_train: (1047, 7)\n",
            "Ukuran X_test: (262, 7)\n",
            "Ukuran y_train: (1047,)\n",
            "Ukuran y_test: (262,)\n"
          ]
        }
      ]
    },
    {
      "cell_type": "code",
      "source": [
        "print(\"Distribusi y_train:\")\n",
        "print(y_train.value_counts())\n",
        "\n",
        "print(\"Distribusi y_test:\")\n",
        "print(y_test.value_counts())\n"
      ],
      "metadata": {
        "colab": {
          "base_uri": "https://localhost:8080/"
        },
        "id": "v6geemj4azwR",
        "outputId": "039d31cc-90f7-4d68-8b33-48e04e49161b"
      },
      "execution_count": null,
      "outputs": [
        {
          "output_type": "stream",
          "name": "stdout",
          "text": [
            "Distribusi y_train:\n",
            "survived\n",
            "0    665\n",
            "1    382\n",
            "Name: count, dtype: int64\n",
            "Distribusi y_test:\n",
            "survived\n",
            "0    144\n",
            "1    118\n",
            "Name: count, dtype: int64\n"
          ]
        }
      ]
    },
    {
      "cell_type": "code",
      "source": [
        "print(\"Contoh data X_train:\")\n",
        "print(X_train.head())\n",
        "print(\"Contoh data y_train:\")\n",
        "print(y_train.head())\n",
        "\n",
        "print(\"Contoh data X_test:\")\n",
        "print(X_test.head())\n",
        "print(\"Contoh data y_test:\")\n",
        "print(y_test.head())\n"
      ],
      "metadata": {
        "colab": {
          "base_uri": "https://localhost:8080/"
        },
        "id": "2vf3HVIPa6Ef",
        "outputId": "c785218c-f9bf-43e0-cca0-3b25e9aec63e"
      },
      "execution_count": null,
      "outputs": [
        {
          "output_type": "stream",
          "name": "stdout",
          "text": [
            "Contoh data X_train:\n",
            "     pclass     sex   age  sibsp  parch      fare embarked\n",
            "772       3    male  17.0      0      0    7.8958        S\n",
            "543       2    male  36.0      0      0   10.5000        S\n",
            "289       1  female  18.0      0      2   79.6500        S\n",
            "10        1    male  47.0      1      0  227.5250        C\n",
            "147       1    male   NaN      0      0   42.4000        S\n",
            "Contoh data y_train:\n",
            "772    0\n",
            "543    0\n",
            "289    1\n",
            "10     0\n",
            "147    0\n",
            "Name: survived, dtype: int64\n",
            "Contoh data X_test:\n",
            "      pclass   sex   age  sibsp  parch     fare embarked\n",
            "1148       3  male  35.0      0      0   7.1250        S\n",
            "1049       3  male  20.0      1      1  15.7417        C\n",
            "982        3  male   NaN      0      0   7.8958        S\n",
            "808        3  male   NaN      0      0   8.0500        S\n",
            "1195       3  male   NaN      0      0   7.7500        Q\n",
            "Contoh data y_test:\n",
            "1148    0\n",
            "1049    1\n",
            "982     0\n",
            "808     0\n",
            "1195    0\n",
            "Name: survived, dtype: int64\n"
          ]
        }
      ]
    },
    {
      "cell_type": "code",
      "source": [
        "import seaborn as sns\n",
        "import matplotlib.pyplot as plt\n",
        "\n",
        "# Visualisasi distribusi kelas pada y_train dan y_test\n",
        "plt.figure(figsize=(10, 5))\n",
        "\n",
        "plt.subplot(1, 2, 1)\n",
        "sns.countplot(x=y_train)\n",
        "plt.title('Distribusi Kelas pada y_train')\n",
        "\n",
        "plt.subplot(1, 2, 2)\n",
        "sns.countplot(x=y_test)\n",
        "plt.title('Distribusi Kelas pada y_test')\n",
        "\n",
        "plt.show()\n"
      ],
      "metadata": {
        "colab": {
          "base_uri": "https://localhost:8080/",
          "height": 487
        },
        "id": "BEXqKb-Cbdo5",
        "outputId": "cfafa967-8a1e-446e-997c-a6df66886493"
      },
      "execution_count": null,
      "outputs": [
        {
          "output_type": "display_data",
          "data": {
            "text/plain": [
              "<Figure size 1000x500 with 2 Axes>"
            ],
            "image/png": "[encoded data removed]"
          },
          "metadata": {}
        }
      ]
    },
    {
      "cell_type": "code",
      "source": [
        "dataset.to_excel('setelah_modeling.xlsx', index=False)\n"
      ],
      "metadata": {
        "id": "BbCd3mhUbmJ4"
      },
      "execution_count": null,
      "outputs": []
    },
    {
      "cell_type": "code",
      "source": [
        "# Menggunakan pandas untuk one-hot encoding\n",
        "dataset = pd.get_dummies(dataset, columns=['sex', 'embarked'], drop_first=True)\n",
        "\n",
        "# Sekarang data sudah dalam bentuk numerik, bisa digunakan untuk melatih model\n"
      ],
      "metadata": {
        "id": "nZneYu99dfk7"
      },
      "execution_count": null,
      "outputs": []
    },
    {
      "cell_type": "code",
      "source": [
        "print(dataset.isnull().sum())\n"
      ],
      "metadata": {
        "colab": {
          "base_uri": "https://localhost:8080/"
        },
        "id": "jIaQK13rfccs",
        "outputId": "33c6bb54-6084-4f03-e86c-565107199475"
      },
      "execution_count": null,
      "outputs": [
        {
          "output_type": "stream",
          "name": "stdout",
          "text": [
            "pclass           0\n",
            "survived         0\n",
            "name             0\n",
            "age            263\n",
            "sibsp            0\n",
            "parch            0\n",
            "ticket           0\n",
            "fare             1\n",
            "cabin         1014\n",
            "boat           823\n",
            "body          1188\n",
            "home.dest      564\n",
            "sex_male         0\n",
            "embarked_Q       0\n",
            "embarked_S       0\n",
            "dtype: int64\n"
          ]
        }
      ]
    },
    {
      "cell_type": "code",
      "source": [
        "print(dataset.columns)\n"
      ],
      "metadata": {
        "colab": {
          "base_uri": "https://localhost:8080/"
        },
        "id": "gZeRrPgCeCW1",
        "outputId": "1cf311ac-5c87-4a2b-e04a-3df77aee172c"
      },
      "execution_count": null,
      "outputs": [
        {
          "output_type": "stream",
          "name": "stdout",
          "text": [
            "Index(['pclass', 'survived', 'name', 'age', 'sibsp', 'parch', 'ticket', 'fare',\n",
            "       'cabin', 'boat', 'body', 'home.dest', 'sex_male', 'embarked_Q',\n",
            "       'embarked_S'],\n",
            "      dtype='object')\n"
          ]
        }
      ]
    },
    {
      "cell_type": "code",
      "source": [
        "# Cek kolom yang ada setelah encoding\n",
        "print(dataset.columns)\n",
        "\n",
        "# Pastikan menggunakan kolom yang benar setelah encoding\n",
        "X = dataset[['pclass', 'sex_male', 'age', 'sibsp', 'parch', 'fare', 'embarked_Q']]\n",
        "y = dataset['survived']\n"
      ],
      "metadata": {
        "colab": {
          "base_uri": "https://localhost:8080/"
        },
        "id": "repJYxfReT6j",
        "outputId": "be0ffefb-e298-48e9-9c84-daad53629df2"
      },
      "execution_count": null,
      "outputs": [
        {
          "output_type": "stream",
          "name": "stdout",
          "text": [
            "Index(['pclass', 'survived', 'name', 'age', 'sibsp', 'parch', 'ticket', 'fare',\n",
            "       'cabin', 'boat', 'body', 'home.dest', 'sex_male', 'embarked_Q',\n",
            "       'embarked_S'],\n",
            "      dtype='object')\n"
          ]
        }
      ]
    },
    {
      "cell_type": "code",
      "source": [
        "print(\"Unique values in 'sex':\", dataset['sex'].unique())\n",
        "print(\"Unique values in 'embarked':\", dataset['embarked'].unique())\n"
      ],
      "metadata": {
        "colab": {
          "base_uri": "https://localhost:8080/"
        },
        "id": "FKcIyNnVi-RC",
        "outputId": "d180c381-5ec4-49b2-d86e-3a6fca14f4df"
      },
      "execution_count": null,
      "outputs": [
        {
          "output_type": "stream",
          "name": "stdout",
          "text": [
            "Unique values in 'sex': ['female' 'male']\n",
            "Unique values in 'embarked': ['S' 'C' nan 'Q']\n"
          ]
        }
      ]
    },
    {
      "cell_type": "code",
      "source": [
        "dataset['sex'] = dataset['sex'].map({'male': 0, 'female': 1})\n",
        "dataset['embarked'] = dataset['embarked'].map({'C': 0, 'Q': 1, 'S': 2})\n",
        "\n"
      ],
      "metadata": {
        "id": "iz22l9BJjVax"
      },
      "execution_count": null,
      "outputs": []
    },
    {
      "cell_type": "code",
      "source": [
        "print(dataset.head())\n"
      ],
      "metadata": {
        "colab": {
          "base_uri": "https://localhost:8080/"
        },
        "id": "wp6tOP87jaUM",
        "outputId": "7cc5028a-a1e8-4259-f766-3ab392eefd7a"
      },
      "execution_count": null,
      "outputs": [
        {
          "output_type": "stream",
          "name": "stdout",
          "text": [
            "   pclass  survived                                             name  sex  \\\n",
            "0       1         1                    Allen, Miss. Elisabeth Walton  NaN   \n",
            "1       1         1                   Allison, Master. Hudson Trevor  NaN   \n",
            "2       1         0                     Allison, Miss. Helen Loraine  NaN   \n",
            "3       1         0             Allison, Mr. Hudson Joshua Creighton  NaN   \n",
            "4       1         0  Allison, Mrs. Hudson J C (Bessie Waldo Daniels)  NaN   \n",
            "\n",
            "       age  sibsp  parch  ticket      fare    cabin  embarked boat   body  \\\n",
            "0  29.0000      0      0   24160  211.3375       B5       2.0    2    NaN   \n",
            "1   0.9167      1      2  113781  151.5500  C22 C26       2.0   11    NaN   \n",
            "2   2.0000      1      2  113781  151.5500  C22 C26       2.0  NaN    NaN   \n",
            "3  30.0000      1      2  113781  151.5500  C22 C26       2.0  NaN  135.0   \n",
            "4  25.0000      1      2  113781  151.5500  C22 C26       2.0  NaN    NaN   \n",
            "\n",
            "                         home.dest  \n",
            "0                     St Louis, MO  \n",
            "1  Montreal, PQ / Chesterville, ON  \n",
            "2  Montreal, PQ / Chesterville, ON  \n",
            "3  Montreal, PQ / Chesterville, ON  \n",
            "4  Montreal, PQ / Chesterville, ON  \n"
          ]
        }
      ]
    },
    {
      "cell_type": "code",
      "source": [
        "print(\"Unique values in 'sex':\", dataset['sex'].unique())\n",
        "print(\"Unique values in 'embarked':\", dataset['embarked'].unique())\n"
      ],
      "metadata": {
        "colab": {
          "base_uri": "https://localhost:8080/"
        },
        "id": "mCFrusm4jhJq",
        "outputId": "dc658f0e-f508-446b-ddff-17c2df3ae1b3"
      },
      "execution_count": null,
      "outputs": [
        {
          "output_type": "stream",
          "name": "stdout",
          "text": [
            "Unique values in 'sex': [nan]\n",
            "Unique values in 'embarked': [ 2.  0. nan  1.]\n"
          ]
        }
      ]
    },
    {
      "cell_type": "code",
      "source": [
        "dataset['sex'] = dataset['sex'].map({'male': 0, 'female': 1})\n"
      ],
      "metadata": {
        "id": "0hbl_-bajkDO"
      },
      "execution_count": null,
      "outputs": []
    },
    {
      "cell_type": "code",
      "source": [
        "print(\"Unique values in 'sex':\", dataset['sex'].unique())\n",
        "print(\"Unique values in 'embarked':\", dataset['embarked'].unique())\n"
      ],
      "metadata": {
        "colab": {
          "base_uri": "https://localhost:8080/"
        },
        "id": "yEnE4OoNj4IJ",
        "outputId": "3eb950d0-64d4-41d3-99ef-14466f994a8e"
      },
      "execution_count": null,
      "outputs": [
        {
          "output_type": "stream",
          "name": "stdout",
          "text": [
            "Unique values in 'sex': [nan]\n",
            "Unique values in 'embarked': [ 2.  0. nan  1.]\n"
          ]
        }
      ]
    },
    {
      "cell_type": "code",
      "source": [
        "# Ganti NaN pada kolom 'embarked' dengan 'S'\n",
        "dataset['embarked'] = dataset['embarked'].fillna('S')"
      ],
      "metadata": {
        "id": "31ALBNd5kodg"
      },
      "execution_count": null,
      "outputs": []
    },
    {
      "cell_type": "code",
      "source": [
        "# Memisahkan fitur (X) dan target (y)\n",
        "X = dataset[['pclass', 'sex', 'age', 'sibsp', 'parch', 'fare', 'embarked']]\n",
        "y = dataset['survived']\n"
      ],
      "metadata": {
        "id": "krj3XxWij7hv"
      },
      "execution_count": null,
      "outputs": []
    },
    {
      "cell_type": "code",
      "source": [
        "print(\"Unique values in 'sex':\", dataset['sex'].unique())\n",
        "print(\"Unique values in 'embarked':\", dataset['embarked'].unique())"
      ],
      "metadata": {
        "colab": {
          "base_uri": "https://localhost:8080/"
        },
        "id": "fqRnxnZ4kFMb",
        "outputId": "6bed9288-c660-4020-f575-94bf3e7e17dc"
      },
      "execution_count": null,
      "outputs": [
        {
          "output_type": "stream",
          "name": "stdout",
          "text": [
            "Unique values in 'sex': [0]\n",
            "Unique values in 'embarked': [2.0 0.0 'S' 1.0]\n"
          ]
        }
      ]
    },
    {
      "cell_type": "code",
      "source": [
        "print(X.head())  # Periksa data setelah encoding\n"
      ],
      "metadata": {
        "colab": {
          "base_uri": "https://localhost:8080/"
        },
        "id": "0INQSW3ek7hk",
        "outputId": "2cdd32fd-3f26-4f5f-cfed-9acafbf6cb57"
      },
      "execution_count": null,
      "outputs": [
        {
          "output_type": "stream",
          "name": "stdout",
          "text": [
            "   pclass  sex      age  sibsp  parch      fare embarked\n",
            "0       1    0  29.0000      0      0  211.3375      2.0\n",
            "1       1    0   0.9167      1      2  151.5500      2.0\n",
            "2       1    0   2.0000      1      2  151.5500      2.0\n",
            "3       1    0  30.0000      1      2  151.5500      2.0\n",
            "4       1    0  25.0000      1      2  151.5500      2.0\n"
          ]
        }
      ]
    },
    {
      "cell_type": "code",
      "source": [
        "dataset['age'] = dataset['age'].fillna(dataset['age'].median())\n"
      ],
      "metadata": {
        "id": "wXphNgZxlVXS"
      },
      "execution_count": null,
      "outputs": []
    },
    {
      "cell_type": "code",
      "source": [
        "print(dataset.dtypes)\n"
      ],
      "metadata": {
        "colab": {
          "base_uri": "https://localhost:8080/"
        },
        "id": "hGSoYm15lld_",
        "outputId": "78dcc75b-db74-4eb3-aded-c3b7de1f38d9"
      },
      "execution_count": null,
      "outputs": [
        {
          "output_type": "stream",
          "name": "stdout",
          "text": [
            "pclass         int64\n",
            "survived       int64\n",
            "name          object\n",
            "sex            int64\n",
            "age          float64\n",
            "sibsp          int64\n",
            "parch          int64\n",
            "ticket        object\n",
            "fare         float64\n",
            "cabin         object\n",
            "embarked      object\n",
            "boat          object\n",
            "body         float64\n",
            "home.dest     object\n",
            "dtype: object\n"
          ]
        }
      ]
    },
    {
      "cell_type": "code",
      "source": [
        "print(dataset['embarked'].unique())\n"
      ],
      "metadata": {
        "colab": {
          "base_uri": "https://localhost:8080/"
        },
        "id": "FfSbGHBKmNbP",
        "outputId": "a50a6087-ad60-422d-a2cd-0e3ecbde0fb9"
      },
      "execution_count": null,
      "outputs": [
        {
          "output_type": "stream",
          "name": "stdout",
          "text": [
            "[2 0 3 1]\n"
          ]
        }
      ]
    },
    {
      "cell_type": "code",
      "source": [
        "from sklearn.preprocessing import LabelEncoder\n",
        "\n",
        "# Ganti NaN pada kolom 'embarked' dengan 'S'\n",
        "dataset['embarked'] = dataset['embarked'].fillna('S')\n",
        "\n",
        "# Pastikan kolom 'embarked' bertipe string\n",
        "dataset['embarked'] = dataset['embarked'].astype(str)\n",
        "\n",
        "# Menginisialisasi LabelEncoder\n",
        "label_encoder = LabelEncoder()\n",
        "\n",
        "# Melakukan encoding untuk kolom 'sex' dan 'embarked'\n",
        "dataset['sex'] = label_encoder.fit_transform(dataset['sex'])\n",
        "dataset['embarked'] = label_encoder.fit_transform(dataset['embarked'])\n",
        "\n",
        "# Memeriksa data setelah encoding\n",
        "print(dataset[['sex', 'embarked']].head())\n"
      ],
      "metadata": {
        "colab": {
          "base_uri": "https://localhost:8080/"
        },
        "id": "D3SdPaBCnONK",
        "outputId": "3513278b-c069-4cbe-f243-f7dfb4ae37f3"
      },
      "execution_count": null,
      "outputs": [
        {
          "output_type": "stream",
          "name": "stdout",
          "text": [
            "   sex  embarked\n",
            "0    0         2\n",
            "1    0         2\n",
            "2    0         2\n",
            "3    0         2\n",
            "4    0         2\n"
          ]
        }
      ]
    },
    {
      "cell_type": "code",
      "source": [
        "from sklearn.model_selection import train_test_split\n",
        "\n",
        "# Memisahkan data menjadi training dan testing set\n",
        "X = dataset[['pclass', 'sex', 'age', 'sibsp', 'parch', 'fare', 'embarked']]\n",
        "y = dataset['survived']\n",
        "\n",
        "X_train, X_test, y_train, y_test = train_test_split(X, y, test_size=0.2, random_state=42)\n"
      ],
      "metadata": {
        "id": "k2YvzXNXnbi6"
      },
      "execution_count": null,
      "outputs": []
    },
    {
      "cell_type": "code",
      "source": [
        "from sklearn.linear_model import LogisticRegression\n",
        "\n",
        "# Membuat dan melatih model Logistic Regression\n",
        "model = LogisticRegression(max_iter=1000)  # Menambah jumlah iterasi agar model konvergen\n",
        "model.fit(X_train, y_train)\n"
      ],
      "metadata": {
        "colab": {
          "base_uri": "https://localhost:8080/",
          "height": 80
        },
        "id": "Fn25Mxh8nlQk",
        "outputId": "ebe60cbc-3b6e-4483-878a-f1e6f7eb051d"
      },
      "execution_count": null,
      "outputs": [
        {
          "output_type": "execute_result",
          "data": {
            "text/plain": [
              "LogisticRegression(max_iter=1000)"
            ],
            "text/html": [
              "<style>#sk-container-id-2 {\n",
              "  /* Definition of color scheme common for light and dark mode */\n",
              "  --sklearn-color-text: black;\n",
              "  --sklearn-color-line: gray;\n",
              "  /* Definition of color scheme for unfitted estimators */\n",
              "  --sklearn-color-unfitted-level-0: #fff5e6;\n",
              "  --sklearn-color-unfitted-level-1: #f6e4d2;\n",
              "  --sklearn-color-unfitted-level-2: #ffe0b3;\n",
              "  --sklearn-color-unfitted-level-3: chocolate;\n",
              "  /* Definition of color scheme for fitted estimators */\n",
              "  --sklearn-color-fitted-level-0: #f0f8ff;\n",
              "  --sklearn-color-fitted-level-1: #d4ebff;\n",
              "  --sklearn-color-fitted-level-2: #b3dbfd;\n",
              "  --sklearn-color-fitted-level-3: cornflowerblue;\n",
              "\n",
              "  /* Specific color for light theme */\n",
              "  --sklearn-color-text-on-default-background: var(--sg-text-color, var(--theme-code-foreground, var(--jp-content-font-color1, black)));\n",
              "  --sklearn-color-background: var(--sg-background-color, var(--theme-background, var(--jp-layout-color0, white)));\n",
              "  --sklearn-color-border-box: var(--sg-text-color, var(--theme-code-foreground, var(--jp-content-font-color1, black)));\n",
              "  --sklearn-color-icon: #696969;\n",
              "\n",
              "  @media (prefers-color-scheme: dark) {\n",
              "    /* Redefinition of color scheme for dark theme */\n",
              "    --sklearn-color-text-on-default-background: var(--sg-text-color, var(--theme-code-foreground, var(--jp-content-font-color1, white)));\n",
              "    --sklearn-color-background: var(--sg-background-color, var(--theme-background, var(--jp-layout-color0, #111)));\n",
              "    --sklearn-color-border-box: var(--sg-text-color, var(--theme-code-foreground, var(--jp-content-font-color1, white)));\n",
              "    --sklearn-color-icon: #878787;\n",
              "  }\n",
              "}\n",
              "\n",
              "#sk-container-id-2 {\n",
              "  color: var(--sklearn-color-text);\n",
              "}\n",
              "\n",
              "#sk-container-id-2 pre {\n",
              "  padding: 0;\n",
              "}\n",
              "\n",
              "#sk-container-id-2 input.sk-hidden--visually {\n",
              "  border: 0;\n",
              "  clip: rect(1px 1px 1px 1px);\n",
              "  clip: rect(1px, 1px, 1px, 1px);\n",
              "  height: 1px;\n",
              "  margin: -1px;\n",
              "  overflow: hidden;\n",
              "  padding: 0;\n",
              "  position: absolute;\n",
              "  width: 1px;\n",
              "}\n",
              "\n",
              "#sk-container-id-2 div.sk-dashed-wrapped {\n",
              "  border: 1px dashed var(--sklearn-color-line);\n",
              "  margin: 0 0.4em 0.5em 0.4em;\n",
              "  box-sizing: border-box;\n",
              "  padding-bottom: 0.4em;\n",
              "  background-color: var(--sklearn-color-background);\n",
              "}\n",
              "\n",
              "#sk-container-id-2 div.sk-container {\n",
              "  /* jupyter's `normalize.less` sets `[hidden] { display: none; }`\n",
              "     but bootstrap.min.css set `[hidden] { display: none !important; }`\n",
              "     so we also need the `!important` here to be able to override the\n",
              "     default hidden behavior on the sphinx rendered scikit-learn.org.\n",
              "     See: https://github.com/scikit-learn/scikit-learn/issues/21755 */\n",
              "  display: inline-block !important;\n",
              "  position: relative;\n",
              "}\n",
              "\n",
              "#sk-container-id-2 div.sk-text-repr-fallback {\n",
              "  display: none;\n",
              "}\n",
              "\n",
              "div.sk-parallel-item,\n",
              "div.sk-serial,\n",
              "div.sk-item {\n",
              "  /* draw centered vertical line to link estimators */\n",
              "  background-image: linear-gradient(var(--sklearn-color-text-on-default-background), var(--sklearn-color-text-on-default-background));\n",
              "  background-size: 2px 100%;\n",
              "  background-repeat: no-repeat;\n",
              "  background-position: center center;\n",
              "}\n",
              "\n",
              "/* Parallel-specific style estimator block */\n",
              "\n",
              "#sk-container-id-2 div.sk-parallel-item::after {\n",
              "  content: \"\";\n",
              "  width: 100%;\n",
              "  border-bottom: 2px solid var(--sklearn-color-text-on-default-background);\n",
              "  flex-grow: 1;\n",
              "}\n",
              "\n",
              "#sk-container-id-2 div.sk-parallel {\n",
              "  display: flex;\n",
              "  align-items: stretch;\n",
              "  justify-content: center;\n",
              "  background-color: var(--sklearn-color-background);\n",
              "  position: relative;\n",
              "}\n",
              "\n",
              "#sk-container-id-2 div.sk-parallel-item {\n",
              "  display: flex;\n",
              "  flex-direction: column;\n",
              "}\n",
              "\n",
              "#sk-container-id-2 div.sk-parallel-item:first-child::after {\n",
              "  align-self: flex-end;\n",
              "  width: 50%;\n",
              "}\n",
              "\n",
              "#sk-container-id-2 div.sk-parallel-item:last-child::after {\n",
              "  align-self: flex-start;\n",
              "  width: 50%;\n",
              "}\n",
              "\n",
              "#sk-container-id-2 div.sk-parallel-item:only-child::after {\n",
              "  width: 0;\n",
              "}\n",
              "\n",
              "/* Serial-specific style estimator block */\n",
              "\n",
              "#sk-container-id-2 div.sk-serial {\n",
              "  display: flex;\n",
              "  flex-direction: column;\n",
              "  align-items: center;\n",
              "  background-color: var(--sklearn-color-background);\n",
              "  padding-right: 1em;\n",
              "  padding-left: 1em;\n",
              "}\n",
              "\n",
              "\n",
              "/* Toggleable style: style used for estimator/Pipeline/ColumnTransformer box that is\n",
              "clickable and can be expanded/collapsed.\n",
              "- Pipeline and ColumnTransformer use this feature and define the default style\n",
              "- Estimators will overwrite some part of the style using the `sk-estimator` class\n",
              "*/\n",
              "\n",
              "/* Pipeline and ColumnTransformer style (default) */\n",
              "\n",
              "#sk-container-id-2 div.sk-toggleable {\n",
              "  /* Default theme specific background. It is overwritten whether we have a\n",
              "  specific estimator or a Pipeline/ColumnTransformer */\n",
              "  background-color: var(--sklearn-color-background);\n",
              "}\n",
              "\n",
              "/* Toggleable label */\n",
              "#sk-container-id-2 label.sk-toggleable__label {\n",
              "  cursor: pointer;\n",
              "  display: block;\n",
              "  width: 100%;\n",
              "  margin-bottom: 0;\n",
              "  padding: 0.5em;\n",
              "  box-sizing: border-box;\n",
              "  text-align: center;\n",
              "}\n",
              "\n",
              "#sk-container-id-2 label.sk-toggleable__label-arrow:before {\n",
              "  /* Arrow on the left of the label */\n",
              "  content: \"▸\";\n",
              "  float: left;\n",
              "  margin-right: 0.25em;\n",
              "  color: var(--sklearn-color-icon);\n",
              "}\n",
              "\n",
              "#sk-container-id-2 label.sk-toggleable__label-arrow:hover:before {\n",
              "  color: var(--sklearn-color-text);\n",
              "}\n",
              "\n",
              "/* Toggleable content - dropdown */\n",
              "\n",
              "#sk-container-id-2 div.sk-toggleable__content {\n",
              "  max-height: 0;\n",
              "  max-width: 0;\n",
              "  overflow: hidden;\n",
              "  text-align: left;\n",
              "  /* unfitted */\n",
              "  background-color: var(--sklearn-color-unfitted-level-0);\n",
              "}\n",
              "\n",
              "#sk-container-id-2 div.sk-toggleable__content.fitted {\n",
              "  /* fitted */\n",
              "  background-color: var(--sklearn-color-fitted-level-0);\n",
              "}\n",
              "\n",
              "#sk-container-id-2 div.sk-toggleable__content pre {\n",
              "  margin: 0.2em;\n",
              "  border-radius: 0.25em;\n",
              "  color: var(--sklearn-color-text);\n",
              "  /* unfitted */\n",
              "  background-color: var(--sklearn-color-unfitted-level-0);\n",
              "}\n",
              "\n",
              "#sk-container-id-2 div.sk-toggleable__content.fitted pre {\n",
              "  /* unfitted */\n",
              "  background-color: var(--sklearn-color-fitted-level-0);\n",
              "}\n",
              "\n",
              "#sk-container-id-2 input.sk-toggleable__control:checked~div.sk-toggleable__content {\n",
              "  /* Expand drop-down */\n",
              "  max-height: 200px;\n",
              "  max-width: 100%;\n",
              "  overflow: auto;\n",
              "}\n",
              "\n",
              "#sk-container-id-2 input.sk-toggleable__control:checked~label.sk-toggleable__label-arrow:before {\n",
              "  content: \"▾\";\n",
              "}\n",
              "\n",
              "/* Pipeline/ColumnTransformer-specific style */\n",
              "\n",
              "#sk-container-id-2 div.sk-label input.sk-toggleable__control:checked~label.sk-toggleable__label {\n",
              "  color: var(--sklearn-color-text);\n",
              "  background-color: var(--sklearn-color-unfitted-level-2);\n",
              "}\n",
              "\n",
              "#sk-container-id-2 div.sk-label.fitted input.sk-toggleable__control:checked~label.sk-toggleable__label {\n",
              "  background-color: var(--sklearn-color-fitted-level-2);\n",
              "}\n",
              "\n",
              "/* Estimator-specific style */\n",
              "\n",
              "/* Colorize estimator box */\n",
              "#sk-container-id-2 div.sk-estimator input.sk-toggleable__control:checked~label.sk-toggleable__label {\n",
              "  /* unfitted */\n",
              "  background-color: var(--sklearn-color-unfitted-level-2);\n",
              "}\n",
              "\n",
              "#sk-container-id-2 div.sk-estimator.fitted input.sk-toggleable__control:checked~label.sk-toggleable__label {\n",
              "  /* fitted */\n",
              "  background-color: var(--sklearn-color-fitted-level-2);\n",
              "}\n",
              "\n",
              "#sk-container-id-2 div.sk-label label.sk-toggleable__label,\n",
              "#sk-container-id-2 div.sk-label label {\n",
              "  /* The background is the default theme color */\n",
              "  color: var(--sklearn-color-text-on-default-background);\n",
              "}\n",
              "\n",
              "/* On hover, darken the color of the background */\n",
              "#sk-container-id-2 div.sk-label:hover label.sk-toggleable__label {\n",
              "  color: var(--sklearn-color-text);\n",
              "  background-color: var(--sklearn-color-unfitted-level-2);\n",
              "}\n",
              "\n",
              "/* Label box, darken color on hover, fitted */\n",
              "#sk-container-id-2 div.sk-label.fitted:hover label.sk-toggleable__label.fitted {\n",
              "  color: var(--sklearn-color-text);\n",
              "  background-color: var(--sklearn-color-fitted-level-2);\n",
              "}\n",
              "\n",
              "/* Estimator label */\n",
              "\n",
              "#sk-container-id-2 div.sk-label label {\n",
              "  font-family: monospace;\n",
              "  font-weight: bold;\n",
              "  display: inline-block;\n",
              "  line-height: 1.2em;\n",
              "}\n",
              "\n",
              "#sk-container-id-2 div.sk-label-container {\n",
              "  text-align: center;\n",
              "}\n",
              "\n",
              "/* Estimator-specific */\n",
              "#sk-container-id-2 div.sk-estimator {\n",
              "  font-family: monospace;\n",
              "  border: 1px dotted var(--sklearn-color-border-box);\n",
              "  border-radius: 0.25em;\n",
              "  box-sizing: border-box;\n",
              "  margin-bottom: 0.5em;\n",
              "  /* unfitted */\n",
              "  background-color: var(--sklearn-color-unfitted-level-0);\n",
              "}\n",
              "\n",
              "#sk-container-id-2 div.sk-estimator.fitted {\n",
              "  /* fitted */\n",
              "  background-color: var(--sklearn-color-fitted-level-0);\n",
              "}\n",
              "\n",
              "/* on hover */\n",
              "#sk-container-id-2 div.sk-estimator:hover {\n",
              "  /* unfitted */\n",
              "  background-color: var(--sklearn-color-unfitted-level-2);\n",
              "}\n",
              "\n",
              "#sk-container-id-2 div.sk-estimator.fitted:hover {\n",
              "  /* fitted */\n",
              "  background-color: var(--sklearn-color-fitted-level-2);\n",
              "}\n",
              "\n",
              "/* Specification for estimator info (e.g. \"i\" and \"?\") */\n",
              "\n",
              "/* Common style for \"i\" and \"?\" */\n",
              "\n",
              ".sk-estimator-doc-link,\n",
              "a:link.sk-estimator-doc-link,\n",
              "a:visited.sk-estimator-doc-link {\n",
              "  float: right;\n",
              "  font-size: smaller;\n",
              "  line-height: 1em;\n",
              "  font-family: monospace;\n",
              "  background-color: var(--sklearn-color-background);\n",
              "  border-radius: 1em;\n",
              "  height: 1em;\n",
              "  width: 1em;\n",
              "  text-decoration: none !important;\n",
              "  margin-left: 1ex;\n",
              "  /* unfitted */\n",
              "  border: var(--sklearn-color-unfitted-level-1) 1pt solid;\n",
              "  color: var(--sklearn-color-unfitted-level-1);\n",
              "}\n",
              "\n",
              ".sk-estimator-doc-link.fitted,\n",
              "a:link.sk-estimator-doc-link.fitted,\n",
              "a:visited.sk-estimator-doc-link.fitted {\n",
              "  /* fitted */\n",
              "  border: var(--sklearn-color-fitted-level-1) 1pt solid;\n",
              "  color: var(--sklearn-color-fitted-level-1);\n",
              "}\n",
              "\n",
              "/* On hover */\n",
              "div.sk-estimator:hover .sk-estimator-doc-link:hover,\n",
              ".sk-estimator-doc-link:hover,\n",
              "div.sk-label-container:hover .sk-estimator-doc-link:hover,\n",
              ".sk-estimator-doc-link:hover {\n",
              "  /* unfitted */\n",
              "  background-color: var(--sklearn-color-unfitted-level-3);\n",
              "  color: var(--sklearn-color-background);\n",
              "  text-decoration: none;\n",
              "}\n",
              "\n",
              "div.sk-estimator.fitted:hover .sk-estimator-doc-link.fitted:hover,\n",
              ".sk-estimator-doc-link.fitted:hover,\n",
              "div.sk-label-container:hover .sk-estimator-doc-link.fitted:hover,\n",
              ".sk-estimator-doc-link.fitted:hover {\n",
              "  /* fitted */\n",
              "  background-color: var(--sklearn-color-fitted-level-3);\n",
              "  color: var(--sklearn-color-background);\n",
              "  text-decoration: none;\n",
              "}\n",
              "\n",
              "/* Span, style for the box shown on hovering the info icon */\n",
              ".sk-estimator-doc-link span {\n",
              "  display: none;\n",
              "  z-index: 9999;\n",
              "  position: relative;\n",
              "  font-weight: normal;\n",
              "  right: .2ex;\n",
              "  padding: .5ex;\n",
              "  margin: .5ex;\n",
              "  width: min-content;\n",
              "  min-width: 20ex;\n",
              "  max-width: 50ex;\n",
              "  color: var(--sklearn-color-text);\n",
              "  box-shadow: 2pt 2pt 4pt #999;\n",
              "  /* unfitted */\n",
              "  background: var(--sklearn-color-unfitted-level-0);\n",
              "  border: .5pt solid var(--sklearn-color-unfitted-level-3);\n",
              "}\n",
              "\n",
              ".sk-estimator-doc-link.fitted span {\n",
              "  /* fitted */\n",
              "  background: var(--sklearn-color-fitted-level-0);\n",
              "  border: var(--sklearn-color-fitted-level-3);\n",
              "}\n",
              "\n",
              ".sk-estimator-doc-link:hover span {\n",
              "  display: block;\n",
              "}\n",
              "\n",
              "/* \"?\"-specific style due to the `<a>` HTML tag */\n",
              "\n",
              "#sk-container-id-2 a.estimator_doc_link {\n",
              "  float: right;\n",
              "  font-size: 1rem;\n",
              "  line-height: 1em;\n",
              "  font-family: monospace;\n",
              "  background-color: var(--sklearn-color-background);\n",
              "  border-radius: 1rem;\n",
              "  height: 1rem;\n",
              "  width: 1rem;\n",
              "  text-decoration: none;\n",
              "  /* unfitted */\n",
              "  color: var(--sklearn-color-unfitted-level-1);\n",
              "  border: var(--sklearn-color-unfitted-level-1) 1pt solid;\n",
              "}\n",
              "\n",
              "#sk-container-id-2 a.estimator_doc_link.fitted {\n",
              "  /* fitted */\n",
              "  border: var(--sklearn-color-fitted-level-1) 1pt solid;\n",
              "  color: var(--sklearn-color-fitted-level-1);\n",
              "}\n",
              "\n",
              "/* On hover */\n",
              "#sk-container-id-2 a.estimator_doc_link:hover {\n",
              "  /* unfitted */\n",
              "  background-color: var(--sklearn-color-unfitted-level-3);\n",
              "  color: var(--sklearn-color-background);\n",
              "  text-decoration: none;\n",
              "}\n",
              "\n",
              "#sk-container-id-2 a.estimator_doc_link.fitted:hover {\n",
              "  /* fitted */\n",
              "  background-color: var(--sklearn-color-fitted-level-3);\n",
              "}\n",
              "</style><div id=\"sk-container-id-2\" class=\"sk-top-container\"><div class=\"sk-text-repr-fallback\"><pre>LogisticRegression(max_iter=1000)</pre><b>In a Jupyter environment, please rerun this cell to show the HTML representation or trust the notebook. <br />On GitHub, the HTML representation is unable to render, please try loading this page with nbviewer.org.</b></div><div class=\"sk-container\" hidden><div class=\"sk-item\"><div class=\"sk-estimator fitted sk-toggleable\"><input class=\"sk-toggleable__control sk-hidden--visually\" id=\"sk-estimator-id-2\" type=\"checkbox\" checked><label for=\"sk-estimator-id-2\" class=\"sk-toggleable__label fitted sk-toggleable__label-arrow fitted\">&nbsp;&nbsp;LogisticRegression<a class=\"sk-estimator-doc-link fitted\" rel=\"noreferrer\" target=\"_blank\" href=\"https://scikit-learn.org/1.5/modules/generated/sklearn.linear_model.LogisticRegression.html\">?<span>Documentation for LogisticRegression</span></a><span class=\"sk-estimator-doc-link fitted\">i<span>Fitted</span></span></label><div class=\"sk-toggleable__content fitted\"><pre>LogisticRegression(max_iter=1000)</pre></div> </div></div></div></div>"
            ]
          },
          "metadata": {},
          "execution_count": 136
        }
      ]
    },
    {
      "cell_type": "code",
      "source": [
        "accuracy = model.score(X_test, y_test)\n",
        "print(f\"Akurasi model: {accuracy * 100:.2f}%\")\n"
      ],
      "metadata": {
        "colab": {
          "base_uri": "https://localhost:8080/"
        },
        "id": "idwCQ9a2nolv",
        "outputId": "7e8bffe1-9dc9-43a9-cf3e-1932df8a4ba0"
      },
      "execution_count": null,
      "outputs": [
        {
          "output_type": "stream",
          "name": "stdout",
          "text": [
            "Akurasi model: 69.47%\n"
          ]
        }
      ]
    },
    {
      "cell_type": "code",
      "source": [
        "from sklearn.metrics import classification_report\n",
        "\n",
        "y_pred = model.predict(X_test)\n",
        "print(classification_report(y_test, y_pred))\n"
      ],
      "metadata": {
        "colab": {
          "base_uri": "https://localhost:8080/"
        },
        "id": "A6DbOxbCoeem",
        "outputId": "1ea911de-ba0e-4162-d919-f73c486dc85f"
      },
      "execution_count": null,
      "outputs": [
        {
          "output_type": "stream",
          "name": "stdout",
          "text": [
            "              precision    recall  f1-score   support\n",
            "\n",
            "           0       0.66      0.92      0.77       144\n",
            "           1       0.81      0.42      0.56       118\n",
            "\n",
            "    accuracy                           0.69       262\n",
            "   macro avg       0.73      0.67      0.66       262\n",
            "weighted avg       0.73      0.69      0.67       262\n",
            "\n"
          ]
        }
      ]
    },
    {
      "cell_type": "code",
      "source": [
        "from sklearn.ensemble import RandomForestClassifier\n",
        "from sklearn.metrics import classification_report, accuracy_score\n",
        "\n",
        "# Membuat model Random Forest\n",
        "rf_model = RandomForestClassifier(n_estimators=100, random_state=42)\n",
        "\n",
        "# Melatih model dengan data training\n",
        "rf_model.fit(X_train, y_train)\n",
        "\n",
        "# Melakukan prediksi menggunakan data testing\n",
        "y_pred_rf = rf_model.predict(X_test)\n",
        "\n",
        "# Evaluasi model\n",
        "print(f\"Akurasi Random Forest: {accuracy_score(y_test, y_pred_rf) * 100:.2f}%\")\n",
        "print(classification_report(y_test, y_pred_rf))\n"
      ],
      "metadata": {
        "colab": {
          "base_uri": "https://localhost:8080/"
        },
        "id": "RGCk-TpSoioW",
        "outputId": "bdaa6d74-ff15-47d3-b6a5-6fca48997e9b"
      },
      "execution_count": null,
      "outputs": [
        {
          "output_type": "stream",
          "name": "stdout",
          "text": [
            "Akurasi Random Forest: 71.37%\n",
            "              precision    recall  f1-score   support\n",
            "\n",
            "           0       0.70      0.84      0.76       144\n",
            "           1       0.74      0.56      0.64       118\n",
            "\n",
            "    accuracy                           0.71       262\n",
            "   macro avg       0.72      0.70      0.70       262\n",
            "weighted avg       0.72      0.71      0.71       262\n",
            "\n"
          ]
        }
      ]
    },
    {
      "cell_type": "code",
      "source": [
        "import xgboost as xgb\n",
        "from sklearn.metrics import classification_report, accuracy_score\n",
        "\n",
        "# Membuat model XGBoost\n",
        "xgb_model = xgb.XGBClassifier(use_label_encoder=False, eval_metric='logloss', random_state=42)\n",
        "\n",
        "# Melatih model dengan data training\n",
        "xgb_model.fit(X_train, y_train)\n",
        "\n",
        "# Melakukan prediksi menggunakan data testing\n",
        "y_pred_xgb = xgb_model.predict(X_test)\n",
        "\n",
        "# Evaluasi model\n",
        "print(f\"Akurasi XGBoost: {accuracy_score(y_test, y_pred_xgb) * 100:.2f}%\")\n",
        "print(classification_report(y_test, y_pred_xgb))\n"
      ],
      "metadata": {
        "colab": {
          "base_uri": "https://localhost:8080/"
        },
        "id": "hhVy6nR2pNXt",
        "outputId": "a0856cf9-0937-41d9-c85d-4169c353eb42"
      },
      "execution_count": null,
      "outputs": [
        {
          "output_type": "stream",
          "name": "stdout",
          "text": [
            "Akurasi XGBoost: 66.79%\n",
            "              precision    recall  f1-score   support\n",
            "\n",
            "           0       0.65      0.84      0.74       144\n",
            "           1       0.70      0.46      0.55       118\n",
            "\n",
            "    accuracy                           0.67       262\n",
            "   macro avg       0.68      0.65      0.64       262\n",
            "weighted avg       0.68      0.67      0.65       262\n",
            "\n"
          ]
        },
        {
          "output_type": "stream",
          "name": "stderr",
          "text": [
            "/usr/local/lib/python3.10/dist-packages/xgboost/core.py:158: UserWarning: [14:11:06] WARNING: /workspace/src/learner.cc:740: \n",
            "Parameters: { \"use_label_encoder\" } are not used.\n",
            "\n",
            "  warnings.warn(smsg, UserWarning)\n"
          ]
        }
      ]
    },
    {
      "cell_type": "code",
      "source": [
        "from sklearn.preprocessing import StandardScaler\n",
        "scaler = StandardScaler()\n",
        "dataset[['age', 'fare']] = scaler.fit_transform(dataset[['age', 'fare']])\n"
      ],
      "metadata": {
        "id": "PPI-2ceIqJHU"
      },
      "execution_count": null,
      "outputs": []
    },
    {
      "cell_type": "code",
      "source": [
        "dataset.to_excel('new_dataset3.xlsx', index=False)\n"
      ],
      "metadata": {
        "id": "4SQ-RaL_rcLx"
      },
      "execution_count": null,
      "outputs": []
    },
    {
      "cell_type": "code",
      "source": [
        "# Cek rata-rata dan standar deviasi untuk memastikan standar normalisasi\n",
        "print(f\"Rata-rata age: {dataset['age'].mean()}\")\n",
        "print(f\"Deviasi standar age: {dataset['age'].std()}\")\n",
        "\n",
        "print(f\"Rata-rata fare: {dataset['fare'].mean()}\")\n",
        "print(f\"Deviasi standar fare: {dataset['fare'].std()}\")\n"
      ],
      "metadata": {
        "colab": {
          "base_uri": "https://localhost:8080/"
        },
        "id": "Cp6v6CLGrvK_",
        "outputId": "9bc9eb74-c50b-401e-f9e0-b236633ee0a8"
      },
      "execution_count": null,
      "outputs": [
        {
          "output_type": "stream",
          "name": "stdout",
          "text": [
            "Rata-rata age: -1.3027521511262342e-16\n",
            "Deviasi standar age: 1.0003821899623622\n",
            "Rata-rata fare: 4.34250717042078e-17\n",
            "Deviasi standar fare: 1.0003821899623582\n"
          ]
        }
      ]
    },
    {
      "cell_type": "code",
      "source": [
        "import matplotlib.pyplot as plt\n",
        "import seaborn as sns\n",
        "\n",
        "# Sebelum scaling\n",
        "fig, axes = plt.subplots(1, 2, figsize=(12, 5))\n",
        "sns.histplot(dataset['age'], kde=True, ax=axes[0]).set_title('Distribusi Age Sebelum Scaling')\n",
        "sns.histplot(dataset['fare'], kde=True, ax=axes[1]).set_title('Distribusi Fare Sebelum Scaling')\n",
        "\n",
        "# Setelah scaling\n",
        "fig, axes = plt.subplots(1, 2, figsize=(12, 5))\n",
        "sns.histplot(dataset['age'], kde=True, ax=axes[0]).set_title('Distribusi Age Setelah Scaling')\n",
        "sns.histplot(dataset['fare'], kde=True, ax=axes[1]).set_title('Distribusi Fare Setelah Scaling')\n",
        "\n",
        "plt.show()\n"
      ],
      "metadata": {
        "colab": {
          "base_uri": "https://localhost:8080/",
          "height": 957
        },
        "id": "IcT_XCgor4WO",
        "outputId": "658da974-5836-4a81-d3cf-032ad81bbf32"
      },
      "execution_count": null,
      "outputs": [
        {
          "output_type": "display_data",
          "data": {
            "text/plain": [
              "<Figure size 1200x500 with 2 Axes>"
            ],
            "image/png": "[encoded data removed]"
          },
          "metadata": {}
        },
        {
          "output_type": "display_data",
          "data": {
            "text/plain": [
              "<Figure size 1200x500 with 2 Axes>"
            ],
            "image/png": "[encoded data removed]"
          },
          "metadata": {}
        }
      ]
    },
    {
      "cell_type": "code",
      "source": [
        "print(dataset.isnull().sum())\n"
      ],
      "metadata": {
        "colab": {
          "base_uri": "https://localhost:8080/"
        },
        "id": "NTqZcitUsCUd",
        "outputId": "7fe0474f-9ece-4972-b488-aaffa5699438"
      },
      "execution_count": null,
      "outputs": [
        {
          "output_type": "stream",
          "name": "stdout",
          "text": [
            "pclass       0\n",
            "survived     0\n",
            "name         0\n",
            "sex          0\n",
            "age          0\n",
            "sibsp        0\n",
            "parch        0\n",
            "ticket       0\n",
            "fare         0\n",
            "cabin        0\n",
            "embarked     0\n",
            "boat         0\n",
            "body         0\n",
            "home.dest    0\n",
            "dtype: int64\n"
          ]
        }
      ]
    },
    {
      "cell_type": "code",
      "source": [],
      "metadata": {
        "id": "9GpDl1Txvzy-"
      },
      "execution_count": null,
      "outputs": []
    }
  ]
}